{
 "cells": [
  {
   "cell_type": "markdown",
   "id": "761376dd-8967-49d6-b1f6-14a0c3e2818c",
   "metadata": {},
   "source": [
    "## Information about the use of EVCXR\n",
    "https://github.com/evcxr/evcxr/blob/main/COMMON.md\n"
   ]
  },
  {
   "cell_type": "markdown",
   "id": "ed32dcde-8725-49ec-91ef-b0239c1349fc",
   "metadata": {},
   "source": [
    "### Activo cache.\n",
    "Con ello evitamos que cada vez que ejecutemos el notebook se tengan que volver a compilar las dependencias."
   ]
  },
  {
   "cell_type": "code",
   "execution_count": null,
   "id": "9a1d5dac-e253-4e36-b62f-d730a6970d6d",
   "metadata": {},
   "outputs": [],
   "source": [
    ":help"
   ]
  },
  {
   "cell_type": "markdown",
   "id": "9b8edad6-7412-4fad-b3a8-c27ac1d15c98",
   "metadata": {},
   "source": [
    "Según podemos ver en [Rust for DS and DE](https://rust.marcoinacio.com/data/jupyter/)\n",
    "```shell\n",
    "cargo install sccache --locked\n",
    "```"
   ]
  },
  {
   "cell_type": "markdown",
   "id": "74a199a2-b11d-4b95-8e9c-927888245dab",
   "metadata": {},
   "source": [
    "# Configuración básica.\n",
    "Indica que muestre:\n",
    "- El tiempo que se tarda en la ejecución de cada celda.\n",
    "- Activa la caché\n",
    "- Compila con el [nivel de optimización indicado](https://docs.rust-embedded.org/book/unsorted/speed-vs-size.html)"
   ]
  },
  {
   "cell_type": "code",
   "execution_count": null,
   "id": "f01cbe46-7a01-4fcd-9ab5-23b2285e54ad",
   "metadata": {},
   "outputs": [],
   "source": [
    "//:timing\n",
    ":sccache 1\n",
    ":opt 0"
   ]
  },
  {
   "cell_type": "markdown",
   "id": "1f49b821-06a9-4dea-bba0-57dce4215345",
   "metadata": {},
   "source": [
    "## Instalar los crates necesarios"
   ]
  },
  {
   "cell_type": "code",
   "execution_count": null,
   "id": "a62e7359-3a40-46aa-95fa-da99316999d3",
   "metadata": {},
   "outputs": [],
   "source": [
    ":dep dirs\n",
    ":dep polars = {version = \"0.33\", features = [\"lazy\", \"temporal\", \"describe\", \"json\", \"parquet\", \"dtype-datetime\", \"mode\", \"ndarray\", \"object\", \"dtype-struct\", \"concat_str\", \"round_series\"]}\n",
    ":dep chrono = {version = \"0.4\"}\n",
    ":dep rand = {version = \"0.8.5\"}"
   ]
  },
  {
   "cell_type": "code",
   "execution_count": null,
   "id": "6c52b167-1e6f-4c8c-acba-94a675363730",
   "metadata": {},
   "outputs": [],
   "source": [
    "//println!(\"Ruta del config file de evcxr: {:?}\", dirs::config_dir().unwrap().join(\"evcxr\").join(\"init.evcxr\"));\n"
   ]
  },
  {
   "cell_type": "code",
   "execution_count": null,
   "id": "d1f8c5ac",
   "metadata": {},
   "outputs": [],
   "source": [
    "use polars::prelude::*;\n",
    "use chrono::{TimeZone, DateTime, Utc};\n",
    "use std::path::Path;\n",
    "use rand::{thread_rng, Rng};"
   ]
  },
  {
   "cell_type": "markdown",
   "id": "1f5d83b4-d273-4c7e-b5ac-cd04b6a4d922",
   "metadata": {},
   "source": [
    "### Empezamos a trabajar\n",
    "Basado en los artículos sobre [analítica de datos con rust y polars](https://towardsdatascience.com/rust-polars-unlocking-high-performance-data-analysis-part-1-ce42af370ece)"
   ]
  },
  {
   "cell_type": "code",
   "execution_count": null,
   "id": "cb2373db-7b0e-4105-9f50-5a7dba587559",
   "metadata": {},
   "outputs": [],
   "source": [
    "let series: Series = [1,2,3].iter().collect();\n",
    "println!(\"{:?}\", series);"
   ]
  },
  {
   "cell_type": "code",
   "execution_count": null,
   "id": "ae89c2e7-914f-4d3c-a83d-7cebe5e3bdeb",
   "metadata": {},
   "outputs": [],
   "source": [
    "let series: Series = Series::new(\"numbers\", &[1,2,3]);\n",
    "println!(\"{:?}\", series);"
   ]
  },
  {
   "cell_type": "code",
   "execution_count": null,
   "id": "db8934ac-21fa-43b6-9246-cf448c8565ac",
   "metadata": {},
   "outputs": [],
   "source": [
    "let seasons_ser: Series = Series::new(\"seasons\", &[\"Winter\", \"Spring\", \"Summer\", \"Fall\"]);\n",
    "println!(\"{:?}\", seasons_ser);"
   ]
  },
  {
   "cell_type": "code",
   "execution_count": null,
   "id": "b9ef30e3-22ae-479a-9d97-3b3ff17dc936",
   "metadata": {},
   "outputs": [],
   "source": [
    "let s: Series = Series::new(\"seasons\", &[None, Some(1), Some(2)]);\n",
    "println!(\"{:?}\", s);"
   ]
  },
  {
   "cell_type": "code",
   "execution_count": null,
   "id": "aa0fff61-8dcd-4d6e-a6f7-c2412240ff39",
   "metadata": {},
   "outputs": [],
   "source": [
    "Some(f64::NAN)==None"
   ]
  },
  {
   "cell_type": "code",
   "execution_count": null,
   "id": "b1b64ff8-573c-42d9-a050-109dcd14e2c5",
   "metadata": {},
   "outputs": [],
   "source": [
    "f64::NAN==f64::NAN"
   ]
  },
  {
   "cell_type": "markdown",
   "id": "7c8a415d-b98f-4abe-a5ae-5f811a7bee69",
   "metadata": {},
   "source": [
    "## Conversion types.\n",
    "It is crucial to keep in mind that converting a series from one data type to another can lead to the loss or modification of certain values."
   ]
  },
  {
   "cell_type": "code",
   "execution_count": null,
   "id": "693d7d6d-60a2-4a34-a5f7-6eb9b8572ae7",
   "metadata": {},
   "outputs": [],
   "source": [
    "let s: Series = Series::new(\"numbers\", &[Some(f64::NAN), Some(1.), Some(2.)]);\n",
    "println!(\"Number of null values: {:?}\", s.null_count());\n",
    "\n",
    "s.drop_nulls()\n"
   ]
  },
  {
   "cell_type": "code",
   "execution_count": null,
   "id": "aa52c57e-afdc-4cda-a4f3-89456a9fe6d3",
   "metadata": {},
   "outputs": [],
   "source": [
    "let s: Series = Series::new(\"numbers\", &[Some(f64::NAN), Some(1.), Some(2.)]);\n",
    "println!(\"{:?}\", s.cast(&DataType::Int64).unwrap());"
   ]
  },
  {
   "cell_type": "markdown",
   "id": "1c8b835c-310c-4f7e-902d-c0852785b517",
   "metadata": {},
   "source": [
    "## Series creation"
   ]
  },
  {
   "cell_type": "code",
   "execution_count": null,
   "id": "9e25e4cc-e5f9-4a7d-a8ab-5c37b485abd3",
   "metadata": {},
   "outputs": [],
   "source": [
    "let s = Series::new_empty(\"Height\", &DataType::Float32);\n",
    "println!(\"{:?}\", s);"
   ]
  },
  {
   "cell_type": "code",
   "execution_count": null,
   "id": "6609c24e-b8cb-4494-ac9c-7c17e9b00b40",
   "metadata": {},
   "outputs": [],
   "source": [
    "let s: Series = Series::new(\"employees\", &[\"Mahmoud\", \"Ferris\"]);\n",
    "println!(\"{:?}\", s);"
   ]
  },
  {
   "cell_type": "code",
   "execution_count": null,
   "id": "55ba1762-d1d4-46fe-9d05-8002e5b2bc2c",
   "metadata": {},
   "outputs": [],
   "source": [
    "s.name()"
   ]
  },
  {
   "cell_type": "code",
   "execution_count": null,
   "id": "0c6e508e-bda9-4d17-ad0b-03d6c92357b4",
   "metadata": {},
   "outputs": [],
   "source": [
    "let s: Series = Series::new(\"employees\", &vec![\"Mahmoud\", \"Ferris\"]);\n",
    "println!(\"{:?}\", s);"
   ]
  },
  {
   "cell_type": "code",
   "execution_count": null,
   "id": "9eaae0ee-7ae2-4dae-86d3-2569bde0189d",
   "metadata": {},
   "outputs": [],
   "source": [
    "let s = Float64Chunked::new(\"b\", &[1., 2., 3.]).into_series();\n",
    "println!(\"{:?}\", s);"
   ]
  },
  {
   "cell_type": "markdown",
   "id": "8396d07c-d4b8-4a22-94f7-7d94591313b2",
   "metadata": {},
   "source": [
    "## Slice"
   ]
  },
  {
   "cell_type": "code",
   "execution_count": null,
   "id": "491d39dc-f589-4cf2-bff1-e07f7038c722",
   "metadata": {},
   "outputs": [],
   "source": [
    "let s = Series::new(\"Measurements\", &[-1.01, 0.86, -4.60, 3.98,  0.53, -7.04, 3.98,  0.53, -7.04]);\n",
    "let sub_s = s.slice(0,3);\n",
    "println!(\"{:?}, {:?}\", s, sub_s);"
   ]
  },
  {
   "cell_type": "markdown",
   "id": "c67bd061-df26-4508-966d-a88abb7bfb53",
   "metadata": {},
   "source": [
    "## Datetime"
   ]
  },
  {
   "cell_type": "code",
   "execution_count": null,
   "id": "aa62ff54-0783-4e3a-a975-825519fe898f",
   "metadata": {},
   "outputs": [],
   "source": [
    "let date: DateTime<Utc> = Utc.with_ymd_and_hms(2020, 1, 1, 0, 0, 0).unwrap();\n",
    "let s = Series::new(\"b\", &[date.date_naive()]);\n",
    "println!(\"{:?}\", s);"
   ]
  },
  {
   "cell_type": "code",
   "execution_count": null,
   "id": "44af8071-c2bd-4d5d-8c1c-d0e6e77d3bf0",
   "metadata": {},
   "outputs": [],
   "source": [
    "let mut s1 = Series::new(\"Age\", &vec![23., 27.]);\n",
    "let mut s2 = Series::new(\"Height\", &[1.84, 1.78]);\n",
    "println!(\"{:?}\", s1.append(&s2));"
   ]
  },
  {
   "cell_type": "code",
   "execution_count": null,
   "id": "334b8a9e-e235-47dd-b7bb-4132d5bdd697",
   "metadata": {},
   "outputs": [],
   "source": [
    "let mut s = Series::new(\"Measurements\", &[-1.01,  0.86, -4.60, 3.98,  0.53, -7.04, 3.98,  0.53, -7.04]);\n",
    "println!(\"{:?}\", s.cast(&DataType::Int32)?);"
   ]
  },
  {
   "cell_type": "markdown",
   "id": "a91c6c17-aa5e-46f8-b04b-4307006ca58b",
   "metadata": {},
   "source": [
    "### Missing values in Series"
   ]
  },
  {
   "cell_type": "code",
   "execution_count": null,
   "id": "be18e139-4961-4182-9686-94ce78b3766f",
   "metadata": {},
   "outputs": [],
   "source": [
    "let s = Series::new(\"some_missing\", &[Some(1), None, Some(3), Some(4), None, Some(6)]);\n",
    "let filled = s.fill_null(FillNullStrategy::Forward(None))?;\n",
    "println!(\"Forward: {:?}\", filled);\n",
    "\n",
    "let filled = s.fill_null(FillNullStrategy::Backward(None))?;\n",
    "println!(\"Backward: {:?}\", filled);\n",
    "\n",
    "let filled = s.fill_null(FillNullStrategy::Mean)?;\n",
    "println!(\"Mean: {:?}\", filled);\n",
    "\n",
    "let filled = s.fill_null(FillNullStrategy::Min)?;\n",
    "println!(\"Min: {:?}\", filled);\n",
    "\n",
    "let filled = s.fill_null(FillNullStrategy::Max)?;\n",
    "println!(\"Max: {:?}\", filled);\n",
    "\n",
    "let filled = s.i32()?.fill_null_with_values(42)?.into_series();\n",
    "println!(\"{:?}\", filled);"
   ]
  },
  {
   "cell_type": "code",
   "execution_count": null,
   "id": "c80c83d9-a5ca-439c-b130-c90c273aee20",
   "metadata": {},
   "outputs": [],
   "source": [
    "let s = Series::new(\"Measurements\", &[-1.01,  0.86, -4.60, 3.98,  0.53, -7.04, 3.98,  0.53, -7.04]);\n",
    "// Take 4 samples with replacement and shuffle (Terms used in probability).\n",
    "println!(\"{:?}\", s.sample_n(4, true, true, Some(9999)));"
   ]
  },
  {
   "cell_type": "markdown",
   "id": "adcf4dcf-1574-4a40-9088-aea80482af2f",
   "metadata": {},
   "source": [
    "## Estadística descriptiva"
   ]
  },
  {
   "cell_type": "code",
   "execution_count": null,
   "id": "6c6f5909-e3b1-4b20-9516-6b7fba7d9903",
   "metadata": {},
   "outputs": [],
   "source": [
    "let s = Series::new(\"Measurements\", &[-1.01,  0.86, -4.60, 3.98,  0.53, -7.04, 3.98,  0.53, -7.04]);\n",
    "println!(\"{:?}\", s.mean().unwrap());"
   ]
  },
  {
   "cell_type": "code",
   "execution_count": null,
   "id": "74113a99-8ba8-40c1-b35e-a1cb2c46bdbf",
   "metadata": {},
   "outputs": [],
   "source": [
    "let s = Series::new(\"Measures\", &vec![Some(3), Some(4), None, Some(8), Some(6)]); // Mean no tiene en cuenta los valores nulos para hacer el cálculo.\n",
    "println!(\"{:?}\", s.mean().unwrap());"
   ]
  },
  {
   "cell_type": "code",
   "execution_count": null,
   "id": "ff820a4f-e683-43d2-993f-23833264642e",
   "metadata": {},
   "outputs": [],
   "source": [
    "let s = Series::new(\"Measurements\", &[-1.01,  0.86, -4.60, 3.98,  0.53, -7.04, 3.98,  0.53, -7.04]);\n",
    "println!(\"{:?}\", s.median().unwrap());"
   ]
  },
  {
   "cell_type": "code",
   "execution_count": null,
   "id": "4bf53cc5-c6bd-4f52-820a-a423bf32b16a",
   "metadata": {},
   "outputs": [],
   "source": [
    "let s = Series::new(\"Measurements\", &[-1.01,  0.86, -4.60, 3.98,  0.53, -7.04, 3.98,  0.53, -7.04]);\n",
    "println!(\"{:?}\", s.mode().unwrap());"
   ]
  },
  {
   "cell_type": "markdown",
   "id": "c49e245f-cd2e-468f-80cf-dbf391697c44",
   "metadata": {},
   "source": [
    "## Measures of Spread"
   ]
  },
  {
   "cell_type": "code",
   "execution_count": null,
   "id": "e6b28055-b985-4b5a-bbd7-e08546a03bff",
   "metadata": {},
   "outputs": [],
   "source": [
    "let s = Series::new(\"Measurements\", &[-1.01,  0.86, -4.60, 3.98,  0.53, -7.04, 3.98,  0.53, -7.04]);\n",
    "println!(\"{:?}\", s.quantile_as_series(0.75, QuantileInterpolOptions::Nearest).unwrap());\n"
   ]
  },
  {
   "cell_type": "markdown",
   "id": "6b2b8da3-081d-4e00-a2a8-526611e436ef",
   "metadata": {},
   "source": [
    "# Parte 2\n",
    "[Parte 2](https://towardsdatascience.com/rust-polars-unlocking-high-performance-data-analysis-part-2-7c58a3cb7a1f)"
   ]
  },
  {
   "cell_type": "code",
   "execution_count": null,
   "id": "a8ed0b85-e5e2-43c7-aebd-3a553fa79203",
   "metadata": {},
   "outputs": [],
   "source": [
    "let df = DataFrame::default();\n",
    "println!(\"{:?}\", df);"
   ]
  },
  {
   "cell_type": "code",
   "execution_count": null,
   "id": "4153eccd-cbca-465c-b95a-bcca9c94c528",
   "metadata": {},
   "outputs": [],
   "source": [
    "let s1 = Series::new(\"Name\", &[\"Mahmoud\", \"Arthur\"]);\n",
    "let s2 = Series::new(\"Age\", &[23, 27]);\n",
    "let s3 = Series::new(\"Height\", &[1.84, 1.78]);\n",
    "let df : DataFrame = DataFrame::new(vec![s1, s2, s3])?;\n",
    "//let df = DataFrame::new(vec![s1, s2, s3]).unwrap();\n",
    "println!(\"{:?}\", df);"
   ]
  },
  {
   "cell_type": "code",
   "execution_count": null,
   "id": "84328194-d2bb-464c-a281-8b13c0fbe86b",
   "metadata": {},
   "outputs": [],
   "source": [
    "let df: PolarsResult<DataFrame> = df!(\"Name\" => &[\"Mahmoud\", \"Ali\"],\n",
    "                                      \"Age\" => &[23, 27],\n",
    "                                      \"Height\" => &[1.84, 1.78]);\n",
    "println!(\"{:?}\", df?);"
   ]
  },
  {
   "cell_type": "code",
   "execution_count": null,
   "id": "c8640a46-844f-4506-ba6e-e27ee3d2b48f",
   "metadata": {},
   "outputs": [],
   "source": [
    "let df1: DataFrame = df!(\"categorical\" => &[\"d\",\"e\",\"f\"],\n",
    "                         \"numeric\" => &[1, 2, 3],\n",
    "                         \"object\" => &[\"a\", \"b\", \"c\"]).unwrap();\n",
    "println!(\"{}\", df1);\n",
    "\n",
    "let df2: DataFrame = df1.describe(None).unwrap();\n",
    "println!(\"{}\", df2);"
   ]
  },
  {
   "cell_type": "code",
   "execution_count": null,
   "id": "96e66c76-f330-4cd3-9612-e409ec53d286",
   "metadata": {},
   "outputs": [],
   "source": [
    "let df: DataFrame = df!(\"Name\" => &[\"Mahmoud\", \"Bob\"],\n",
    "                        \"Age\" => &[23, 27],\n",
    "                        \"Height\" => &[1.84, 1.78]).unwrap();\n",
    "println!(\"{}\", df.head(None));"
   ]
  },
  {
   "cell_type": "code",
   "execution_count": null,
   "id": "f53d97a9-17e8-472b-b93a-8e63c3a3a725",
   "metadata": {},
   "outputs": [],
   "source": [
    "{\n",
    "// Create a sample DataFrame\n",
    "let df = df!(\"Name\" => &[\"Mahmoud\", \"Ali\", \"ThePrimeagen\"],\n",
    "             \"Age\" => &[22, 25, 29],\n",
    "             \"Gender\" => &[\"M\", \"M\", \"M\"],\n",
    "             \"Salary\" => &[50000, 60000, 250000]).unwrap();\n",
    "\n",
    "let name_col = &df[\"Name\"];\n",
    "let name_col1 = &df[0];\n",
    "println!(\"1 {:?}\", name_col);\n",
    "println!(\"2 {:?}\", name_col1);\n",
    "\n",
    "let subset = &df[..2];\n",
    "println!(\"3 {:?}\", subset);\n",
    "}"
   ]
  },
  {
   "cell_type": "code",
   "execution_count": null,
   "id": "f64572f1-535c-4624-a8d8-e6a16a93a442",
   "metadata": {},
   "outputs": [],
   "source": [
    "let name_age_cols = df.select([\"Name\", \"Age\"]).unwrap();\n",
    "println!(\"{:?}\", name_age_cols);"
   ]
  },
  {
   "cell_type": "code",
   "execution_count": null,
   "id": "0d78e3a6-6558-4849-ab91-4887b4163299",
   "metadata": {},
   "outputs": [],
   "source": [
    "{let my_col = &df.column(\"Name\");\n",
    "println!(\"{:?}\", my_col);}"
   ]
  },
  {
   "cell_type": "code",
   "execution_count": null,
   "id": "cbd52776-71c4-429d-936b-ec073074b7e7",
   "metadata": {},
   "outputs": [],
   "source": [
    "// Create a sample DataFrame\n",
    "let df = df!(\"Name\" => &[\"Mahmoud\", \"Ali\", \"ThePrimeagen\"],\n",
    "             \"Age\" => &[22, 25, 36],\n",
    "             \"Gender\" => &[\"M\", \"M\", \"M\"],\n",
    "             \"Salary\" => &[50000, 60000, 250000]).unwrap();\n",
    "\n",
    "let mask = df.column(\"Age\").expect(\"Age must exist!\").gt(25)?;\n",
    "let filtered_data = df.filter(&mask)?;\n",
    "\n",
    "println!(\"{:?}\", filtered_data);\n",
    "\n",
    "// Output:\n",
    "\n",
    "// shape: (1, 4)\n",
    "// ┌──────────────┬─────┬────────┬────────┐\n",
    "// │ Name         ┆ Age ┆ Gender ┆ Salary │\n",
    "// │ ---          ┆ --- ┆ ---    ┆ ---    │\n",
    "// │ str          ┆ i32 ┆ str    ┆ i32    │\n",
    "// ╞══════════════╪═════╪════════╪════════╡\n",
    "// │ ThePrimeagen ┆ 36  ┆ M      ┆ 250000 │\n",
    "// └──────────────┴─────┴────────┴────────┘"
   ]
  },
  {
   "cell_type": "code",
   "execution_count": null,
   "id": "817a30e2-e729-4094-9673-0a2a223afbaf",
   "metadata": {},
   "outputs": [],
   "source": [
    "// Create a sample DataFrame\n",
    "let df = df!(\"Name\" => &[\"Mahmoud\", \"Ali\", \"ThePrimeagen\"],\n",
    "             \"Age\" => &[22, 25, 36],\n",
    "             \"Gender\" => &[\"M\", \"M\", \"M\"],\n",
    "             \"Salary\" => &[50000, 60000, 250000]).unwrap();\n",
    "\n",
    "println!(\"1 {:?}\", df);\n",
    "println!(\"2 {:?}\", df.transpose(None, None)?);\n",
    "\n",
    "// Output:\n",
    "\n",
    "// shape: (4,)\n",
    "// Series: 'column_0' [str]\n",
    "// [\n",
    "//     \"Mahmoud\"\n",
    "//     \"22\"\n",
    "//     \"M\"\n",
    "//     \"50000\"\n",
    "// ]"
   ]
  },
  {
   "cell_type": "markdown",
   "id": "0796a0fa-c3dd-406e-b6ae-662079504cc8",
   "metadata": {},
   "source": [
    "## Cleaning Data"
   ]
  },
  {
   "cell_type": "code",
   "execution_count": null,
   "id": "5a0edc04-1353-44dc-b26f-c39321850624",
   "metadata": {},
   "outputs": [],
   "source": [
    "let df = df!(\"Name\" => &[Some(\"Mahmoud\"),  None, None],\n",
    "             \"Age\" => &[22, 25, 36],\n",
    "             \"Gender\" => &[\"M\", \"M\", \"M\"],\n",
    "             \"Salary\" => &[50000, 60000, 250000]).unwrap();\n",
    "\n",
    "println!(\"{:?}\", df.null_count());\n",
    "println!(\"{:?}\", &df.select([\"Name\"])?.null_count());"
   ]
  },
  {
   "cell_type": "code",
   "execution_count": null,
   "id": "add7f02d-6d2b-4562-997a-692d01b070d5",
   "metadata": {},
   "outputs": [],
   "source": [
    "let df = df!(\"Name\" => &[\"Mahmoud\",  \"Mahmoud\", \"ThePrimeagen\"],\n",
    "             \"Age\" => &[22, 22, 36],\n",
    "             \"Gender\" => &[\"M\", \"M\", \"M\"],\n",
    "             \"Salary\" => &[50000, 50000, 250000]).unwrap();\n",
    "\n",
    "let mask = df.is_duplicated().unwrap();\n",
    "let filtered_data = df.filter(&mask).unwrap();\n",
    "println!(\"{:?}\", filtered_data);\n",
    "\n",
    "println!(\"{:?}\", df.filter(&df.is_duplicated()?)?);"
   ]
  },
  {
   "cell_type": "code",
   "execution_count": null,
   "id": "5a347524-ff2f-45aa-8084-0aeac2ced089",
   "metadata": {},
   "outputs": [],
   "source": [
    "let df = df!(\"Name\" => &[\"Mahmoud\",  \"Mahmoud\", \"ThePrimeagen\"],\n",
    "             \"Age\" => &[22, 22, 36],\n",
    "             \"Gender\" => &[\"M\", \"M\", \"M\"],\n",
    "             \"Salary\" => &[50000, 50000, 250000]).unwrap();\n",
    "\n",
    "df.filter(&df.is_unique()?)?"
   ]
  },
  {
   "cell_type": "code",
   "execution_count": null,
   "id": "9a53a3b0-f3bb-401f-8d75-cdb2d8f655db",
   "metadata": {},
   "outputs": [],
   "source": [
    "let df: DataFrame = df!(\"Fruit\" => &[\"Apple\", \"Apple\", \"Pear\"],\n",
    "                        \"Color\" => &[\"Red\", \"Yellow\", \"Green\"])?;"
   ]
  },
  {
   "cell_type": "code",
   "execution_count": null,
   "id": "bdcef075-4b49-4722-afda-be05ed63c74b",
   "metadata": {},
   "outputs": [],
   "source": [
    "let df_remain = df.drop(\"Color\")?;\n",
    "println!(\"{:?}\", df_remain);\n",
    "println!(\"{:?}\", df);\n"
   ]
  },
  {
   "cell_type": "code",
   "execution_count": null,
   "id": "696f30d5-0312-4efe-925f-50aae265cfec",
   "metadata": {},
   "outputs": [],
   "source": [
    "let mut df: DataFrame = df!(\"Fruit\" => &[\"Apple\", \"Apple\", \"Pear\"],\n",
    "                            \"Color\" => &[\"Red\", \"Yellow\", \"Green\"]).unwrap();\n",
    "df.drop_in_place(\"Color\"); // remove the row with index 1 (\"Color\") from df\n",
    "println!(\"{:?}\", df);"
   ]
  },
  {
   "cell_type": "code",
   "execution_count": null,
   "id": "33129123-1bf5-40db-a4da-89210a7b7ba1",
   "metadata": {},
   "outputs": [],
   "source": [
    "let df_dropped_col = df.drop_many(&[\"Color\", \"\"]);\n",
    "println!(\"{:?}\", df_dropped_col);"
   ]
  },
  {
   "cell_type": "code",
   "execution_count": null,
   "id": "363a9841-ed46-4566-974c-b3cd29e5d8aa",
   "metadata": {},
   "outputs": [],
   "source": [
    "let df: DataFrame = df!(\"Fruit\" => &[\"Apple\", \"Apple\", \"Pear\"],\n",
    "                        \"Color\" => &[Some(\"Red\"), None, None]).unwrap();\n",
    "let df_clean = df.drop_nulls::<String>(None).unwrap();\n",
    "println!(\"{:?}\", df_clean);"
   ]
  },
  {
   "cell_type": "code",
   "execution_count": null,
   "id": "614eb4e9-8593-4082-ba10-440f021a1fc6",
   "metadata": {},
   "outputs": [],
   "source": [
    "let df = df!(\"Name\" => &[\"Mahmoud\", \"Ali\", \"ThePrimeagen\"],\n",
    "             \"Age\" => &[22, 25, 36],\n",
    "             \"Gender\" => &[\"M\", \"M\", \"M\"],\n",
    "             \"Salary\" => &[Some(50000), Some(60000), None]).unwrap();\n",
    "let mask = df.column(\"Salary\").expect(\"Salary must exist!\").is_not_null();\n",
    "println!(\"{:?}\", mask.head(None));\n",
    "let filtered_data = df.filter(&mask)?;\n",
    "println!(\"{:?}\", filtered_data);\n",
    "println!(\"{:?}\", df.filter(&df.column(\"Salary\")?.is_not_null())?);\n",
    "\n"
   ]
  },
  {
   "cell_type": "code",
   "execution_count": null,
   "id": "b54e551b-6275-41e4-920a-3a0fa57ca145",
   "metadata": {},
   "outputs": [],
   "source": [
    "let mut df = df!(\"Name\" => &[\"Mahmoud\", \"Ali\", \"ThePrimeagen\"],\n",
    "             \"Age\" => &[22, 25, 36],\n",
    "             \"Gender\" => &[\"M\", \"M\", \"M\"],\n",
    "             \"Salary\" => &[Some(50000), Some(60000), None]).unwrap();\n",
    "\n",
    "let filtered_nulls = df.fill_null(FillNullStrategy::Forward(None)).unwrap();\n",
    "    \n",
    "println!(\"{:?}\", filtered_nulls);\n",
    "println!(\"{:?}\", df.mean());\n",
    "println!(\"{:?}\", df.median());\n",
    "println!(\"{:?}\", df.std(1));\n",
    "println!(\"{:?}\", df.var(1));\n"
   ]
  },
  {
   "cell_type": "markdown",
   "id": "9bc71d29-a5b9-45a0-8a88-a311389ccc42",
   "metadata": {},
   "source": [
    "## Ndarray"
   ]
  },
  {
   "cell_type": "code",
   "execution_count": null,
   "id": "c83227de-2cc3-4957-8f70-3e03eceb2f0d",
   "metadata": {},
   "outputs": [],
   "source": [
    "let df = df!(\"Name\" => &[\"Mahmoud\", \"Ali\", \"ThePrimeagen\"],\n",
    "             \"Age\" => &[22, 25, 36],\n",
    "             \"Gender\" => &[\"M\", \"M\", \"M\"],\n",
    "             \"Salary\" => &[Some(50000), Some(60000), None]).unwrap();\n",
    "\n",
    "println!(\"{:?}\", df.to_ndarray::<Float64Type>(IndexOrder::Fortran).unwrap());\n",
    "println!(\"{:?}\", df.to_ndarray::<Float64Type>(IndexOrder::C).unwrap());\n",
    "\n",
    "\n"
   ]
  },
  {
   "cell_type": "code",
   "execution_count": null,
   "id": "08512a3a-1c5c-4c49-a115-b3df724de9ae",
   "metadata": {},
   "outputs": [],
   "source": [
    "let a = UInt32Chunked::new(\"a\", &[1, 2, 3]).into_series();\n",
    "let b = Float64Chunked::new(\"b\", &[10., 8., 6.]).into_series();\n",
    "\n",
    "let df = DataFrame::new(vec![a, b]).unwrap();\n",
    "let ndarray = df.to_ndarray::<Float64Type>(IndexOrder::Fortran).unwrap();\n",
    "println!(\"{:?}\", ndarray);"
   ]
  },
  {
   "cell_type": "code",
   "execution_count": null,
   "id": "2e294a1e-12ed-4cf8-9a62-bef1aa13cfb9",
   "metadata": {},
   "outputs": [],
   "source": [
    "\n",
    "\n",
    "    let a = UInt32Chunked::new(\"a\", &[1, 2, 3]).into_series();\n",
    "    let b = Float64Chunked::new(\"b\", &[10., 8., 6.]).into_series();\n",
    "\n",
    "    let df = DataFrame::new(vec![a, b]).unwrap();\n",
    "    let ndarray = df.to_ndarray::<Int32Type>(IndexOrder::Fortran).unwrap();\n",
    "    \n",
    "    // Especifica el tipo de ndarray al imprimirlo\n",
    "    println!(\"{:?}\", ndarray);\n",
    "\n"
   ]
  },
  {
   "cell_type": "markdown",
   "id": "6a69ede3-f19e-4f54-b93c-09096999db91",
   "metadata": {},
   "source": [
    "## Aggregation Functions"
   ]
  },
  {
   "cell_type": "markdown",
   "id": "659035c3-183b-420c-a769-092544d8655b",
   "metadata": {},
   "source": [
    "Aggregation Functions\n",
    "Download [the flights dataset](https://www.kaggle.com/datasets/deepak007chaubey/flight-on-time-dataset/) and move it to the dataset directory."
   ]
  },
  {
   "cell_type": "code",
   "execution_count": null,
   "id": "9a2bde67-fe8e-4b1c-bf1d-b3acf0070fa8",
   "metadata": {},
   "outputs": [],
   "source": [
    "fn read_data_frame_from_csv(\n",
    "    csv_file_path: &Path,\n",
    ") -> DataFrame {\n",
    "    CsvReader::from_path(csv_file_path)\n",
    "        .expect(\"Cannot open file.\")\n",
    "        .has_header(true)\n",
    "        .finish()\n",
    "        .unwrap()\n",
    "}\n",
    "\n",
    "\n",
    "let flights_file_path: &Path = Path::new(\"../dataset/Flight_on_time_HIX.csv\");\n",
    "let columns = [\"Airline\", \"Origin_Airport\", \"Destination_Airport\", \"Departure_Delay_Minutes\", \"Arrival_Delay_Minutes\"];\n",
    "let flights_df: DataFrame = read_data_frame_from_csv(flights_file_path).select(columns).unwrap();\n",
    "flights_df.head(Some(5))"
   ]
  },
  {
   "cell_type": "code",
   "execution_count": null,
   "id": "ed6cecb9-ea74-4635-8b44-2e206a7958cb",
   "metadata": {},
   "outputs": [],
   "source": [
    "flights_df.shape()"
   ]
  },
  {
   "cell_type": "code",
   "execution_count": null,
   "id": "20daf697-c662-40d2-b58c-2ec70ccfa8c5",
   "metadata": {},
   "outputs": [],
   "source": [
    "std::env::set_var(\"POLARS_FMT_MAX_ROWS\", \"-1\".to_string());\n",
    "std::env::set_var(\"POLARS_FMT_MAX_COLS\", \"-1\".to_string());"
   ]
  },
  {
   "cell_type": "code",
   "execution_count": null,
   "id": "c46b1bcf",
   "metadata": {},
   "outputs": [],
   "source": [
    "let arr_delay_mean_df: DataFrame = flights_df\n",
    ".clone()\n",
    ".lazy()\n",
    ".group_by([\"Airline\"], )\n",
    ".agg([col(\"Arrival_Delay_Minutes\").mean().alias(\"Delay\"),])\n",
    ".sort(\"Delay\",\n",
    "    SortOptions {\n",
    "        descending: true,\n",
    "        nulls_last: false,\n",
    "        maintain_order: false,\n",
    "        multithreaded: false,\n",
    "    },\n",
    ")\n",
    ".collect()?;\n",
    "\n",
    "// .expect(\"Airline Column must exist!\").select([\"Arrival_Delay_Minutes\"]).mean().unwrap().alias(\"Delay\").sort(\"Delay\");\n",
    "arr_delay_mean_df.head(Some(5))"
   ]
  },
  {
   "cell_type": "code",
   "execution_count": null,
   "id": "aed65dc6",
   "metadata": {},
   "outputs": [],
   "source": [
    "let arr_delay_mean_df: DataFrame = flights_df\n",
    ".clone()\n",
    ".lazy()\n",
    ".group_by([\"Airline\"])\n",
    ".agg([\n",
    "    col(\"Arrival_Delay_Minutes\")\n",
    "        .mean()\n",
    "        .round(3)\n",
    "        .alias(\"Arrival_Delay\"),\n",
    "    col(\"Departure_Delay_Minutes\")\n",
    "        .mean()\n",
    "        .round(3)\n",
    "        .alias(\"Departure_Delay\"),\n",
    "])\n",
    ".sort_by_exprs(\n",
    "    vec![col(\"Arrival_Delay\"), col(\"Departure_Delay\")],\n",
    "    vec![true, true],\n",
    "    false,\n",
    "    false,\n",
    ")\n",
    ".collect()\n",
    ".unwrap();\n",
    "\n",
    "println!(\"{:?}\", arr_delay_mean_df.shape().0);\n",
    "println!(\n",
    "\"{}\",\n",
    "arr_delay_mean_df.head(Some(arr_delay_mean_df.shape().0))\n",
    ");"
   ]
  },
  {
   "cell_type": "code",
   "execution_count": null,
   "id": "d6be1d18",
   "metadata": {},
   "outputs": [],
   "source": [
    "let dep_delay_mean_def: DataFrame = flights_df\n",
    ".clone()\n",
    ".lazy()\n",
    ".group_by([\"Airline\", \"Origin_Airport\"])\n",
    ".agg([col(\"Departure_Delay_Minutes\").mean(),])\n",
    ".sort_by_exprs(vec![col(\"Airline\")], vec![false], false, false)\n",
    ".collect()\n",
    ".unwrap();\n",
    "dep_delay_mean_def.head(Some(5))\n"
   ]
  },
  {
   "cell_type": "markdown",
   "id": "cc303052",
   "metadata": {},
   "source": [
    "## Mergin DataFrames"
   ]
  },
  {
   "cell_type": "code",
   "execution_count": null,
   "id": "901fc7b1",
   "metadata": {},
   "outputs": [],
   "source": [
    "let df1: DataFrame = df!(\"Carrier\" => &[\"HA\", \"EV\", \"VX\", \"DL\"],\n",
    "                         \"ArrDelay\" => &[-3, 28, 0, 1]).unwrap();\n",
    "let df2: DataFrame = df!(\"Airline\" => &[\"HA\", \"EV\", \"OO\", \"VX\"],\n",
    "                         \"DepDelay\" => &[21, -8, 11, -4]).unwrap();\n",
    "\n",
    "let df3: DataFrame = df1\n",
    ".clone()\n",
    ".lazy()\n",
    ".join(\n",
    "    df2.clone().lazy(),\n",
    "    [col(\"Carrier\")],\n",
    "    [col(\"Airline\")],\n",
    "    JoinArgs::new(JoinType::Inner),\n",
    ")\n",
    ".collect()\n",
    ".unwrap();\n",
    "// or: let df3: DataFrame = df1.inner_join(&df2, [\"Carrier\"], [\"Airline\"]).unwrap();\n",
    "df3.head(Some(5))"
   ]
  },
  {
   "cell_type": "code",
   "execution_count": null,
   "id": "8a570544",
   "metadata": {},
   "outputs": [],
   "source": [
    ":vars"
   ]
  },
  {
   "cell_type": "code",
   "execution_count": null,
   "id": "740985db",
   "metadata": {},
   "outputs": [],
   "source": []
  },
  {
   "cell_type": "code",
   "execution_count": null,
   "id": "0a042381",
   "metadata": {},
   "outputs": [],
   "source": [
    "let df1: DataFrame = df!(\"Carrier\" => &[\"HA\", \"EV\", \"VX\", \"DL\"],\n",
    "                         \"ArrDelay\" => &[-3, 28, 0, 1]).unwrap();\n",
    "let df2: DataFrame = df!(\"Airline\" => &[\"HA\", \"EV\", \"OO\", \"VX\"],\n",
    "                         \"DepDelay\" => &[21, -8, 11, -4]).unwrap();\n",
    "\n",
    "let df3: DataFrame = df1\n",
    ".clone()\n",
    ".lazy()\n",
    ".inner_join(\n",
    "    df2.clone().lazy(),\n",
    "    col(\"Carrier\"),\n",
    "    col(\"Airline\"),\n",
    ")\n",
    ".collect()?;\n",
    "// or: let df3: DataFrame = df1.inner_join(&df2, [\"Carrier\"], [\"Airline\"]).unwrap();\n",
    "df3.head(Some(5))"
   ]
  },
  {
   "cell_type": "code",
   "execution_count": null,
   "id": "805b04b1",
   "metadata": {},
   "outputs": [],
   "source": []
  },
  {
   "cell_type": "code",
   "execution_count": null,
   "id": "cce166cf",
   "metadata": {},
   "outputs": [],
   "source": []
  },
  {
   "cell_type": "code",
   "execution_count": null,
   "id": "d3722caa",
   "metadata": {},
   "outputs": [],
   "source": []
  },
  {
   "cell_type": "code",
   "execution_count": null,
   "id": "a8f97940",
   "metadata": {},
   "outputs": [],
   "source": []
  },
  {
   "cell_type": "code",
   "execution_count": null,
   "id": "e8bd903e",
   "metadata": {},
   "outputs": [],
   "source": []
  }
 ],
 "metadata": {
  "kernelspec": {
   "display_name": "Rust",
   "language": "rust",
   "name": "rust"
  },
  "language_info": {
   "codemirror_mode": "rust",
   "file_extension": ".rs",
   "mimetype": "text/rust",
   "name": "rust",
   "pygment_lexer": "rust",
   "version": ""
  }
 },
 "nbformat": 4,
 "nbformat_minor": 5
}
